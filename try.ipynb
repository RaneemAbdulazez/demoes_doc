{
 "metadata": {
  "language_info": {
   "codemirror_mode": {
    "name": "ipython",
    "version": 3
   },
   "file_extension": ".py",
   "mimetype": "text/x-python",
   "name": "python",
   "nbconvert_exporter": "python",
   "pygments_lexer": "ipython3",
   "version": "3.9.4"
  },
  "orig_nbformat": 2,
  "kernelspec": {
   "name": "python394jvsc74a57bd038eea884c846c5e9ccd88ae0f411b269fc8d68cf27e46ff58b041aae7e3aa308",
   "display_name": "Python 3.9.4  ('.venv': venv)"
  },
  "metadata": {
   "interpreter": {
    "hash": "38eea884c846c5e9ccd88ae0f411b269fc8d68cf27e46ff58b041aae7e3aa308"
   }
  }
 },
 "nbformat": 4,
 "nbformat_minor": 2,
 "cells": [
  {
   "cell_type": "code",
   "execution_count": 60,
   "metadata": {
    "tags": []
   },
   "outputs": [
    {
     "output_type": "error",
     "ename": "FileNotFoundError",
     "evalue": "[Errno 2] No such file or directory: '/home/raneem/codefellows/401/demoes/datacleaning/chest_xray/train/PNEUMONIA'",
     "traceback": [
      "\u001b[0;31m---------------------------------------------------------------------------\u001b[0m",
      "\u001b[0;31mFileNotFoundError\u001b[0m                         Traceback (most recent call last)",
      "\u001b[0;32m<ipython-input-60-bc897efe27cf>\u001b[0m in \u001b[0;36m<module>\u001b[0;34m\u001b[0m\n\u001b[1;32m      1\u001b[0m \u001b[0;32mimport\u001b[0m \u001b[0mos\u001b[0m\u001b[0;34m\u001b[0m\u001b[0;34m\u001b[0m\u001b[0m\n\u001b[0;32m----> 2\u001b[0;31m \u001b[0mos\u001b[0m\u001b[0;34m.\u001b[0m\u001b[0mchdir\u001b[0m\u001b[0;34m(\u001b[0m\u001b[0;34m'/home/raneem/codefellows/401/demoes/datacleaning/chest_xray/train/PNEUMONIA'\u001b[0m\u001b[0;34m)\u001b[0m \u001b[0;31m#cd\u001b[0m\u001b[0;34m\u001b[0m\u001b[0;34m\u001b[0m\u001b[0m\n\u001b[0m\u001b[1;32m      3\u001b[0m \u001b[0mx\u001b[0m\u001b[0;34m=\u001b[0m\u001b[0mos\u001b[0m\u001b[0;34m.\u001b[0m\u001b[0mgetcwd\u001b[0m\u001b[0;34m(\u001b[0m\u001b[0;34m)\u001b[0m \u001b[0;31m#where we are\u001b[0m\u001b[0;34m\u001b[0m\u001b[0;34m\u001b[0m\u001b[0m\n\u001b[1;32m      4\u001b[0m \u001b[0;31m# print(os.getcwd())\u001b[0m\u001b[0;34m\u001b[0m\u001b[0;34m\u001b[0m\u001b[0;34m\u001b[0m\u001b[0m\n\u001b[1;32m      5\u001b[0m \u001b[0;31m# os.makedirs('os-demo1/its-demo1')   mkdir\u001b[0m\u001b[0;34m\u001b[0m\u001b[0;34m\u001b[0m\u001b[0;34m\u001b[0m\u001b[0m\n",
      "\u001b[0;31mFileNotFoundError\u001b[0m: [Errno 2] No such file or directory: '/home/raneem/codefellows/401/demoes/datacleaning/chest_xray/train/PNEUMONIA'"
     ]
    }
   ],
   "source": [
    "import os\n",
    "os.chdir('/home/raneem/codefellows/401/demoes/datacleaning/chest_xray/train/PNEUMONIA') #cd \n",
    "x=os.getcwd() #where we are\n",
    "# print(os.getcwd())\n",
    "# os.makedirs('os-demo1/its-demo1')   mkdir\n",
    "# print(os.listdir())   #ls \n",
    "# os.rmdir('os-demo1')  delete directory\n",
    "# os.removedirs('os-demo/its-demo')\n",
    "# # os.rename('try.text','gfhg')\n",
    "# # os.walk('home')   #tree\n",
    "# print(x)\n",
    "# # print(os.listdir())   #ls \n",
    "# for filenames in os.walk(x):\n",
    "#     # if 'bacteria' in filenames:\n",
    "#     # for i in range(len(filenames)):\n",
    "\n",
    "#         print('filename :',filenames[2])\n",
    "     \n",
    "        \n",
    "   "
   ]
  },
  {
   "cell_type": "code",
   "execution_count": 21,
   "metadata": {},
   "outputs": [
    {
     "output_type": "stream",
     "name": "stdout",
     "text": [
      "/home/raneem\n"
     ]
    }
   ],
   "source": [
    "# print(os.environ.get('HOME'))\n",
    "# os.path.join()"
   ]
  },
  {
   "cell_type": "code",
   "execution_count": 65,
   "metadata": {},
   "outputs": [
    {
     "output_type": "error",
     "ename": "TypeError",
     "evalue": "'module' object is not callable",
     "traceback": [
      "\u001b[0;31m---------------------------------------------------------------------------\u001b[0m",
      "\u001b[0;31mTypeError\u001b[0m                                 Traceback (most recent call last)",
      "\u001b[0;32m<ipython-input-65-6af31c340e68>\u001b[0m in \u001b[0;36m<module>\u001b[0;34m\u001b[0m\n\u001b[1;32m      2\u001b[0m \u001b[0;34m\u001b[0m\u001b[0m\n\u001b[1;32m      3\u001b[0m \u001b[0;34m\u001b[0m\u001b[0m\n\u001b[0;32m----> 4\u001b[0;31m \u001b[0mfile\u001b[0m\u001b[0;34m=\u001b[0m\u001b[0mpath\u001b[0m\u001b[0;34m(\u001b[0m\u001b[0;34m'/home/raneem/codefellows/401/demoes/datacleaning/covid_noura-dataset/Coronahack-Chest-XRay-Dataset/Coronahack-Chest-XRay-Dataset/train'\u001b[0m\u001b[0;34m)\u001b[0m\u001b[0;34m\u001b[0m\u001b[0;34m\u001b[0m\u001b[0m\n\u001b[0m\u001b[1;32m      5\u001b[0m \u001b[0;31m# my_files=path('/home/raneem/codefellows/401/demoes/datacleaning/covid_noura-dataset/Coronahack-Chest-XRay-Dataset/Coronahack-Chest-XRay-Dataset/train')\u001b[0m\u001b[0;34m\u001b[0m\u001b[0;34m\u001b[0m\u001b[0;34m\u001b[0m\u001b[0m\n\u001b[1;32m      6\u001b[0m \u001b[0;34m\u001b[0m\u001b[0m\n",
      "\u001b[0;31mTypeError\u001b[0m: 'module' object is not callable"
     ]
    }
   ],
   "source": [
    "import pathlib \n",
    "\n",
    "\n",
    "file=path('/home/raneem/codefellows/401/demoes/datacleaning/covid_noura-dataset/Coronahack-Chest-XRay-Dataset/Coronahack-Chest-XRay-Dataset/train')\n",
    "# my_files=path('/home/raneem/codefellows/401/demoes/datacleaning/covid_noura-dataset/Coronahack-Chest-XRay-Dataset/Coronahack-Chest-XRay-Dataset/train')\n",
    "\n",
    "\n",
    "# # for file in my_files.iterdir():\n",
    "# #     print (file.name)\n"
   ]
  },
  {
   "cell_type": "code",
   "execution_count": null,
   "metadata": {},
   "outputs": [],
   "source": []
  }
 ]
}