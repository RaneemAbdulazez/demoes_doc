{
 "metadata": {
  "language_info": {
   "codemirror_mode": {
    "name": "ipython",
    "version": 3
   },
   "file_extension": ".py",
   "mimetype": "text/x-python",
   "name": "python",
   "nbconvert_exporter": "python",
   "pygments_lexer": "ipython3",
   "version": "3.9.4"
  },
  "orig_nbformat": 2,
  "kernelspec": {
   "name": "pythonjvsc74a57bd038eea884c846c5e9ccd88ae0f411b269fc8d68cf27e46ff58b041aae7e3aa308",
   "display_name": "Python 3.9.4  ('.venv': venv)"
  },
  "metadata": {
   "interpreter": {
    "hash": "38eea884c846c5e9ccd88ae0f411b269fc8d68cf27e46ff58b041aae7e3aa308"
   }
  }
 },
 "nbformat": 4,
 "nbformat_minor": 2,
 "cells": [
  {
   "cell_type": "code",
   "execution_count": 209,
   "metadata": {},
   "outputs": [],
   "source": [
    "from keras.preprocessing.image import ImageDataGenerator\n",
    "from skimage import io\n",
    "from matplotlib import pyplot as plt\n",
    "\n",
    "import numpy as np\n",
    "import os\n",
    "from PIL import Image"
   ]
  },
  {
   "source": [
    "# Augment one Image"
   ],
   "cell_type": "markdown",
   "metadata": {}
  },
  {
   "cell_type": "code",
   "execution_count": 214,
   "metadata": {},
   "outputs": [],
   "source": [
    "# data_gen=ImageDataGenerator(\n",
    "# rotation_range=10,#random rotation\n",
    "# width_shift_range=0.2,\n",
    "# height_shift_range=0.2,\n",
    "# shear_range=0.2,\n",
    "# zoom_range=0.2,\n",
    "# horizontal_flip=True,\n",
    "# fill_mode='nearest',cval=1\n",
    "# )\n",
    "\n",
    "# #to change the sides colour assign fill mode to  :\n",
    "# # reflect\n",
    "# # nearest \n",
    "# # constant : give it a value : 125 is gray ,0 balck ,255 white\n",
    "# x=io.imread('covid_noura-dataset/Coronahack-Chest-XRay-Dataset/Coronahack-Chest-XRay-Dataset/train/1-s2.0-S0140673620303706-fx1_lrg.jpg')\n",
    "# # how to read the image array\n",
    "# x.shape\n",
    "# x = x.reshape((1, ) + x.shape)  #Array with shape (1, 256, 256, 3)\n",
    "# x.shape\n",
    "\n",
    "# i = 0\n",
    "# for batch in data_gen.flow(x, batch_size=16,  \n",
    "#                           save_to_dir='augmented', \n",
    "#                           save_prefix='aug', \n",
    "#                           save_format='png'):\n",
    "#     i += 1\n",
    "#     if i > 3:\n",
    "#         break  # otherwise the generator would loop indefinitely  \n",
    "\n"
   ]
  },
  {
   "source": [
    "# Befor you generate more than an image pay attention to : \n",
    "1- image size , you should generate images that are most similar to the original one \n",
    "use this code to check the sizes :\n",
    "```\n",
    "# image_5 = PIL.Image.open(\"try_augment/1-s2.0-S0140673620303706-fx1_lrg.jpg\")\n",
    "# width, height = image_5.size\n",
    "# print(width, height)\n",
    "\n",
    "```\n",
    "2-pay attention to the photos number you want : in for loop using i each one will generate that number \n",
    "for example you have 5 images , i breaks at 3 this mean you gonna have 4*5=20 images \n",
    "\n",
    "tutorial : https://www.youtube.com/watch?v=ccdssX4rIh8&t=965s\n",
    "\n"
   ],
   "cell_type": "markdown",
   "metadata": {}
  },
  {
   "cell_type": "code",
   "execution_count": 219,
   "metadata": {},
   "outputs": [],
   "source": [
    "data_gen=ImageDataGenerator(\n",
    "rotation_range=10,#random rotation\n",
    "width_shift_range=0.2,\n",
    "height_shift_range=0.2,\n",
    "shear_range=0.2,\n",
    "zoom_range=0.2,\n",
    "horizontal_flip=True,\n",
    "fill_mode='nearest',cval=1\n",
    ")\n"
   ]
  },
  {
   "cell_type": "code",
   "execution_count": 234,
   "metadata": {},
   "outputs": [],
   "source": [
    "#Manually read each image and create an array to be supplied to datagen via flow method\n",
    "dataset = []\n",
    "\n",
    "image_directory = 'try_augment'\n",
    "# SIZE = 128\n",
    "dataset = []\n",
    "\n",
    "my_images = os.listdir(image_directory)\n",
    "for i, image_name in enumerate(my_images):\n",
    "        image = io.imread(image_directory +'/'+ image_name)\n",
    "        \n",
    "        image = Image.fromarray(image, 'RGB')\n",
    "        image = image.resize((2563,1148))    #IMAGE SIZE \n",
    "        dataset.append(np.array(image))\n",
    "\n",
    "x = np.array(dataset)\n",
    "\n",
    "i = 0\n",
    "for batch in data_gen.flow(x, batch_size=16,  \n",
    "                          save_to_dir='augmented', \n",
    "                          save_prefix='aug', \n",
    "                          save_format='png'):\n",
    "    i += 1\n",
    "    if i > 2:\n",
    "        break  # otherwise the generator would loop indefinitely  "
   ]
  }
 ]
}