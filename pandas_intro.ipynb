{
 "metadata": {
  "language_info": {
   "codemirror_mode": {
    "name": "ipython",
    "version": 3
   },
   "file_extension": ".py",
   "mimetype": "text/x-python",
   "name": "python",
   "nbconvert_exporter": "python",
   "pygments_lexer": "ipython3",
   "version": "3.9.4"
  },
  "orig_nbformat": 2,
  "kernelspec": {
   "name": "pythonjvsc74a57bd038eea884c846c5e9ccd88ae0f411b269fc8d68cf27e46ff58b041aae7e3aa308",
   "display_name": "Python 3.9.4 64-bit ('.venv': venv)"
  },
  "metadata": {
   "interpreter": {
    "hash": "38eea884c846c5e9ccd88ae0f411b269fc8d68cf27e46ff58b041aae7e3aa308"
   }
  }
 },
 "nbformat": 4,
 "nbformat_minor": 2,
 "cells": [
  {
   "cell_type": "code",
   "execution_count": 1,
   "metadata": {},
   "outputs": [],
   "source": [
    "import pandas as pd"
   ]
  },
  {
   "cell_type": "code",
   "execution_count": 6,
   "metadata": {},
   "outputs": [
    {
     "output_type": "execute_result",
     "data": {
      "text/plain": [
       "   Unnamed: 0     Label Label_1_Virus_category Label_2_Virus_category  \\\n",
       "4           4  Pnemonia                  Virus                   SARS   \n",
       "5           5  Pnemonia               bacteria                    NaN   \n",
       "6           6  Pnemonia               bacteria          Streptococcus   \n",
       "\n",
       "   Image_Count  \n",
       "4            4  \n",
       "5         2772  \n",
       "6            5  "
      ],
      "text/html": "<div>\n<style scoped>\n    .dataframe tbody tr th:only-of-type {\n        vertical-align: middle;\n    }\n\n    .dataframe tbody tr th {\n        vertical-align: top;\n    }\n\n    .dataframe thead th {\n        text-align: right;\n    }\n</style>\n<table border=\"1\" class=\"dataframe\">\n  <thead>\n    <tr style=\"text-align: right;\">\n      <th></th>\n      <th>Unnamed: 0</th>\n      <th>Label</th>\n      <th>Label_1_Virus_category</th>\n      <th>Label_2_Virus_category</th>\n      <th>Image_Count</th>\n    </tr>\n  </thead>\n  <tbody>\n    <tr>\n      <th>4</th>\n      <td>4</td>\n      <td>Pnemonia</td>\n      <td>Virus</td>\n      <td>SARS</td>\n      <td>4</td>\n    </tr>\n    <tr>\n      <th>5</th>\n      <td>5</td>\n      <td>Pnemonia</td>\n      <td>bacteria</td>\n      <td>NaN</td>\n      <td>2772</td>\n    </tr>\n    <tr>\n      <th>6</th>\n      <td>6</td>\n      <td>Pnemonia</td>\n      <td>bacteria</td>\n      <td>Streptococcus</td>\n      <td>5</td>\n    </tr>\n  </tbody>\n</table>\n</div>"
     },
     "metadata": {},
     "execution_count": 6
    }
   ],
   "source": [
    "covid_df=pd.read_csv('covid_noura-dataset/Chest_xray_Corona_dataset_Summary.csv')\n",
    "# covid_df.head(3)\n",
    "# covid_df.tail(3)"
   ]
  },
  {
   "cell_type": "code",
   "execution_count": 7,
   "metadata": {},
   "outputs": [
    {
     "output_type": "execute_result",
     "data": {
      "text/plain": [
       "Index(['Unnamed: 0', 'Label', 'Label_1_Virus_category',\n",
       "       'Label_2_Virus_category', 'Image_Count'],\n",
       "      dtype='object')"
      ]
     },
     "metadata": {},
     "execution_count": 7
    }
   ],
   "source": [
    "covid_df.columns #read columns "
   ]
  },
  {
   "cell_type": "code",
   "execution_count": 14,
   "metadata": {},
   "outputs": [
    {
     "output_type": "execute_result",
     "data": {
      "text/plain": [
       "0    1576\n",
       "1       2\n",
       "2    1493\n",
       "3      58\n",
       "4       4\n",
       "5    2772\n",
       "6       5\n",
       "Name: Image_Count, dtype: int64"
      ]
     },
     "metadata": {},
     "execution_count": 14
    }
   ],
   "source": [
    "covid_df['Image_Count'][:5]  #sepcify \n",
    "covid_df.Image_Count"
   ]
  },
  {
   "cell_type": "code",
   "execution_count": null,
   "metadata": {},
   "outputs": [],
   "source": []
  }
 ]
}